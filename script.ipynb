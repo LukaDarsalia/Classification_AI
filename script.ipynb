{
 "cells": [
  {
   "cell_type": "markdown",
   "metadata": {},
   "source": [
    "იმპორტები"
   ]
  },
  {
   "cell_type": "code",
   "execution_count": null,
   "metadata": {},
   "outputs": [],
   "source": [
    "import json\n",
    "from math import floor"
   ]
  },
  {
   "cell_type": "markdown",
   "metadata": {},
   "source": [
    "ფილტრავს json ფაილს და მხოლოდ საჭირო (კატეგორიაში რომ cs. ურევია) field-ებს ტოვებს"
   ]
  },
  {
   "cell_type": "code",
   "execution_count": 6,
   "metadata": {},
   "outputs": [],
   "source": [
    "data = []\n",
    "with open('original_dataset.json', 'r') as f:\n",
    "    for line in f:\n",
    "        data.append(json.loads(line))\n",
    "filtered = [x for x in data if (' cs.' in x['categories'] or x['categories'][:3] == 'cs.' )]\n",
    "\n",
    "with open('csDataset.json', 'w') as f:\n",
    "    f.write(json.dumps(filtered, indent=2))"
   ]
  },
  {
   "cell_type": "markdown",
   "metadata": {},
   "source": [
    "ყოფს csDataset-ს 80-20-ზე. 80% იქნება თრეინინგისთვის, ხოლო 20% დასატესტად."
   ]
  },
  {
   "cell_type": "code",
   "execution_count": 8,
   "metadata": {},
   "outputs": [],
   "source": [
    "data = filtered\n",
    "length = len(data)\n",
    "train_data_size = floor(length * 80/100)\n",
    "train_data = data[train_data_size:]\n",
    "\n",
    "test_data_size = length - train_data_size\n",
    "test_data = data[train_data_size:]\n",
    "\n",
    "with open('trainDataset.json', 'w') as f:\n",
    "    f.write(json.dumps(data[:train_data_size], indent=2))\n",
    "\n",
    "with open('testDataset.json', 'w') as f:\n",
    "    f.write(json.dumps(data[train_data_size:], indent=2))"
   ]
  },
  {
   "cell_type": "markdown",
   "metadata": {},
   "source": []
  }
 ],
 "metadata": {
  "kernelspec": {
   "display_name": "Python 3.8.9 64-bit",
   "language": "python",
   "name": "python3"
  },
  "language_info": {
   "codemirror_mode": {
    "name": "ipython",
    "version": 3
   },
   "file_extension": ".py",
   "mimetype": "text/x-python",
   "name": "python",
   "nbconvert_exporter": "python",
   "pygments_lexer": "ipython3",
   "version": "3.9.6"
  },
  "orig_nbformat": 4,
  "vscode": {
   "interpreter": {
    "hash": "31f2aee4e71d21fbe5cf8b01ff0e069b9275f58929596ceb00d14d90e3e16cd6"
   }
  }
 },
 "nbformat": 4,
 "nbformat_minor": 2
}
